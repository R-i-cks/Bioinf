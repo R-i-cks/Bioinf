{
 "cells": [
  {
   "cell_type": "markdown",
   "id": "1ded7e9f",
   "metadata": {},
   "source": [
    "# Análise da sequência e das features presentes no NCBI"
   ]
  },
  {
   "cell_type": "code",
   "execution_count": 1,
   "id": "7c177c84",
   "metadata": {},
   "outputs": [],
   "source": [
    "from Bio import SeqIO\n",
    "from Bio.Seq import Seq\n",
    "from Bio.SeqRecord import SeqRecord\n",
    "from Bio import SeqFeature"
   ]
  },
  {
   "cell_type": "code",
   "execution_count": 2,
   "id": "727e3130",
   "metadata": {},
   "outputs": [
    {
     "data": {
      "text/plain": [
       "SeqRecord(seq=Seq('CAGGGTCCATACATACAGCGGAATATTATTCAGCCCTAAAAAGGAAGGAAATTC...GAT'), id='NG_008631.1', name='NG_008631', description='Homo sapiens patatin like phospholipase domain containing 3 (PNPLA3), RefSeqGene on chromosome 22', dbxrefs=[])"
      ]
     },
     "execution_count": 2,
     "metadata": {},
     "output_type": "execute_result"
    }
   ],
   "source": [
    "record_PNPLA3 = SeqIO.read(\"PNPLA3.gb\", \"genbank\")\n",
    "record_PNPLA3"
   ]
  },
  {
   "cell_type": "markdown",
   "id": "190b79f5",
   "metadata": {},
   "source": [
    "1º verificar as anotações correspondentes aos genes de interesse"
   ]
  },
  {
   "cell_type": "code",
   "execution_count": 3,
   "id": "b3dc5c58",
   "metadata": {},
   "outputs": [
    {
     "name": "stdout",
     "output_type": "stream",
     "text": [
      " tamanho da sequencia:  30830\n"
     ]
    }
   ],
   "source": [
    "tam=len(record_PNPLA3)\n",
    "print(\" tamanho da sequencia: \", tam)\n",
    "#print(record_PNPLA3.seq)"
   ]
  },
  {
   "cell_type": "code",
   "execution_count": 21,
   "id": "34ed0d69",
   "metadata": {
    "scrolled": true
   },
   "outputs": [
    {
     "name": "stdout",
     "output_type": "stream",
     "text": [
      "ID do registo:  NG_008631.1\n",
      "Nome do registo:  NG_008631\n",
      "Descrição:  Homo sapiens patatin like phospholipase domain containing 3 (PNPLA3), RefSeqGene on chromosome 22\n"
     ]
    }
   ],
   "source": [
    "print(\"ID do registo: \",record_PNPLA3.id)\n",
    "print(\"Nome do registo: \",record_PNPLA3.name)\n",
    "print(\"Descrição: \", record_PNPLA3.description)"
   ]
  },
  {
   "cell_type": "code",
   "execution_count": 5,
   "id": "65ff6c8c",
   "metadata": {
    "scrolled": true
   },
   "outputs": [
    {
     "name": "stdout",
     "output_type": "stream",
     "text": [
      "Anotações:  {'molecule_type': 'DNA', 'topology': 'linear', 'data_file_division': 'PRI', 'date': '18-MAY-2020', 'accessions': ['NG_008631'], 'sequence_version': 1, 'keywords': ['RefSeq', 'RefSeqGene'], 'source': 'Homo sapiens (human)', 'organism': 'Homo sapiens', 'taxonomy': ['Eukaryota', 'Metazoa', 'Chordata', 'Craniata', 'Vertebrata', 'Euteleostomi', 'Mammalia', 'Eutheria', 'Euarchontoglires', 'Primates', 'Haplorrhini', 'Catarrhini', 'Hominidae', 'Homo'], 'comment': 'REVIEWED REFSEQ: This record has been curated by NCBI staff. The\\nreference sequence was derived from Z97055.1, AL023654.2 and\\nAL035398.19.\\nThis sequence is a reference standard in the RefSeqGene project.\\nSummary: The protein encoded by this gene is a triacylglycerol\\nlipase that mediates triacylglycerol hydrolysis in adipocytes. The\\nencoded protein, which appears to be membrane bound, may be\\ninvolved in the balance of energy usage/storage in adipocytes.\\n[provided by RefSeq, Jul 2008].'}\n"
     ]
    }
   ],
   "source": [
    "print(\"Anotações: \",record_PNPLA3.annotations)"
   ]
  },
  {
   "cell_type": "code",
   "execution_count": 6,
   "id": "6fd381b8",
   "metadata": {
    "scrolled": true
   },
   "outputs": [
    {
     "name": "stdout",
     "output_type": "stream",
     "text": [
      "tipo de molecula:  DNA\n",
      "tpologia:  linear\n",
      "organismo:  Homo sapiens\n",
      "taxonomia:  ['Eukaryota', 'Metazoa', 'Chordata', 'Craniata', 'Vertebrata', 'Euteleostomi', 'Mammalia', 'Eutheria', 'Euarchontoglires', 'Primates', 'Haplorrhini', 'Catarrhini', 'Hominidae', 'Homo']\n"
     ]
    }
   ],
   "source": [
    "print(\"tipo de molecula: \", record_PNPLA3.annotations[\"molecule_type\"])\n",
    "print(\"tpologia: \", record_PNPLA3.annotations[\"topology\"])\n",
    "print(\"organismo: \", record_PNPLA3.annotations[\"organism\"])\n",
    "print(\"taxonomia: \", record_PNPLA3.annotations[\"taxonomy\"])"
   ]
  },
  {
   "cell_type": "markdown",
   "id": "fddf11da",
   "metadata": {},
   "source": [
    "2º  verificar e analisar a informação complementar fornecida pela lista de features e seus qualifiers"
   ]
  },
  {
   "cell_type": "code",
   "execution_count": 7,
   "id": "b63017cb",
   "metadata": {
    "scrolled": true
   },
   "outputs": [
    {
     "name": "stdout",
     "output_type": "stream",
     "text": [
      "[SeqFeature(FeatureLocation(ExactPosition(0), ExactPosition(30830), strand=1), type='source'), SeqFeature(FeatureLocation(ExactPosition(5066), ExactPosition(28844), strand=1), type='gene'), SeqFeature(CompoundLocation([FeatureLocation(ExactPosition(5066), ExactPosition(5360), strand=1), FeatureLocation(ExactPosition(8196), ExactPosition(8429), strand=1), FeatureLocation(ExactPosition(10085), ExactPosition(10151), strand=1), FeatureLocation(ExactPosition(14139), ExactPosition(14349), strand=1), FeatureLocation(ExactPosition(15867), ExactPosition(15928), strand=1), FeatureLocation(ExactPosition(18312), ExactPosition(18534), strand=1), FeatureLocation(ExactPosition(21254), ExactPosition(21387), strand=1), FeatureLocation(ExactPosition(25952), ExactPosition(26057), strand=1), FeatureLocation(ExactPosition(27415), ExactPosition(28844), strand=1)], 'join'), type='mRNA', location_operator='join'), SeqFeature(FeatureLocation(ExactPosition(5066), ExactPosition(5360), strand=1), type='exon'), SeqFeature(CompoundLocation([FeatureLocation(ExactPosition(5173), ExactPosition(5360), strand=1), FeatureLocation(ExactPosition(8196), ExactPosition(8429), strand=1), FeatureLocation(ExactPosition(10085), ExactPosition(10151), strand=1), FeatureLocation(ExactPosition(14139), ExactPosition(14349), strand=1), FeatureLocation(ExactPosition(15867), ExactPosition(15928), strand=1), FeatureLocation(ExactPosition(18312), ExactPosition(18534), strand=1), FeatureLocation(ExactPosition(21254), ExactPosition(21387), strand=1), FeatureLocation(ExactPosition(25952), ExactPosition(26057), strand=1), FeatureLocation(ExactPosition(27415), ExactPosition(27644), strand=1)], 'join'), type='CDS', location_operator='join'), SeqFeature(FeatureLocation(ExactPosition(5212), ExactPosition(5230), strand=1), type='misc_feature'), SeqFeature(FeatureLocation(ExactPosition(5296), ExactPosition(5359), strand=1), type='misc_feature'), SeqFeature(FeatureLocation(ExactPosition(5305), ExactPosition(5320), strand=1), type='misc_feature'), SeqFeature(FeatureLocation(ExactPosition(8273), ExactPosition(8276), strand=1), type='misc_feature'), SeqFeature(FeatureLocation(ExactPosition(14148), ExactPosition(14157), strand=1), type='misc_feature'), SeqFeature(FeatureLocation(ExactPosition(18392), ExactPosition(18395), strand=1), type='misc_feature'), SeqFeature(FeatureLocation(ExactPosition(8196), ExactPosition(8429), strand=1), type='exon'), SeqFeature(FeatureLocation(ExactPosition(10085), ExactPosition(10151), strand=1), type='exon'), SeqFeature(FeatureLocation(ExactPosition(14139), ExactPosition(14349), strand=1), type='exon'), SeqFeature(FeatureLocation(ExactPosition(15867), ExactPosition(15928), strand=1), type='exon'), SeqFeature(FeatureLocation(ExactPosition(18312), ExactPosition(18534), strand=1), type='exon'), SeqFeature(FeatureLocation(ExactPosition(21254), ExactPosition(21387), strand=1), type='exon'), SeqFeature(FeatureLocation(ExactPosition(25952), ExactPosition(26057), strand=1), type='exon'), SeqFeature(FeatureLocation(ExactPosition(27415), ExactPosition(28844), strand=1), type='exon')]\n"
     ]
    }
   ],
   "source": [
    "print(record_PNPLA3.features)"
   ]
  },
  {
   "cell_type": "code",
   "execution_count": 8,
   "id": "88fab4df",
   "metadata": {},
   "outputs": [
    {
     "name": "stdout",
     "output_type": "stream",
     "text": [
      "type: source\n",
      "location: [0:30830](+)\n",
      "qualifiers:\n",
      "    Key: chromosome, Value: ['22']\n",
      "    Key: db_xref, Value: ['taxon:9606']\n",
      "    Key: map, Value: ['22q13.31']\n",
      "    Key: mol_type, Value: ['genomic DNA']\n",
      "    Key: organism, Value: ['Homo sapiens']\n",
      "\n",
      "type: gene\n",
      "location: [5066:28844](+)\n",
      "qualifiers:\n",
      "    Key: db_xref, Value: ['GeneID:80339', 'HGNC:HGNC:18590', 'MIM:609567']\n",
      "    Key: gene, Value: ['PNPLA3']\n",
      "    Key: gene_synonym, Value: ['ADPN; C22orf20; iPLA(2)epsilon']\n",
      "    Key: note, Value: ['patatin like phospholipase domain containing 3']\n",
      "\n",
      "type: mRNA\n",
      "location: join{[5066:5360](+), [8196:8429](+), [10085:10151](+), [14139:14349](+), [15867:15928](+), [18312:18534](+), [21254:21387](+), [25952:26057](+), [27415:28844](+)}\n",
      "qualifiers:\n",
      "    Key: db_xref, Value: ['GeneID:80339', 'HGNC:HGNC:18590', 'MIM:609567']\n",
      "    Key: gene, Value: ['PNPLA3']\n",
      "    Key: gene_synonym, Value: ['ADPN; C22orf20; iPLA(2)epsilon']\n",
      "    Key: product, Value: ['patatin like phospholipase domain containing 3']\n",
      "    Key: transcript_id, Value: ['NM_025225.3']\n",
      "\n",
      "type: exon\n",
      "location: [5066:5360](+)\n",
      "qualifiers:\n",
      "    Key: gene, Value: ['PNPLA3']\n",
      "    Key: gene_synonym, Value: ['ADPN; C22orf20; iPLA(2)epsilon']\n",
      "    Key: inference, Value: ['alignment:Splign:2.1.0']\n",
      "    Key: number, Value: ['1']\n",
      "\n",
      "type: CDS\n",
      "location: join{[5173:5360](+), [8196:8429](+), [10085:10151](+), [14139:14349](+), [15867:15928](+), [18312:18534](+), [21254:21387](+), [25952:26057](+), [27415:27644](+)}\n",
      "qualifiers:\n",
      "    Key: EC_number, Value: ['3.1.1.3', '3.1.1.4', '2.3.1.51']\n",
      "    Key: codon_start, Value: ['1']\n",
      "    Key: db_xref, Value: ['CCDS:CCDS14054.1', 'GeneID:80339', 'HGNC:HGNC:18590', 'MIM:609567']\n",
      "    Key: gene, Value: ['PNPLA3']\n",
      "    Key: gene_synonym, Value: ['ADPN; C22orf20; iPLA(2)epsilon']\n",
      "    Key: note, Value: ['adiponutrin; patatin-like phospholipase domain-containing protein 3; acylglycerol O-acyltransferase; calcium-independent phospholipase A2-epsilon; iPLA2epsilon; iPLA2-epsilon; acylglycerol transacylase; lysophosphatidic acid acyltransferase']\n",
      "    Key: product, Value: ['1-acylglycerol-3-phosphate O-acyltransferase PNPLA3']\n",
      "    Key: protein_id, Value: ['NP_079501.2']\n",
      "    Key: translation, Value: ['MYDAERGWSLSFAGCGFLGFYHVGATRCLSEHAPHLLRDARMLFGASAGALHCVGVLSGIPLEQTLQVLSDLVRKARSRNIGIFHPSFNLSKFLRQGLCKCLPANVHQLISGKIGISLTRVSDGENVLVSDFRSKDEVVDALVCSCFIPFYSGLIPPSFRGVRYVDGGVSDNVPFIDAKTTITVSPFYGEYDICPKVKSTNFLHVDITKLSLRLCTGNLYLLSRAFVPPDLKVLGEICLRGYLDAFRFLEEKGICNRPQPGLKSSSEGMDPEVAMPSWANMSLDSSPESAALAVRLEGDELLDHLRLSILPWDESILDTLSPRLATALSEEMKDKGGYMSKICNLLPIRIMSYVMLPCTLPVESAIAIVQRLVTWLPDMPDDVLWLQWVTSQVFTRVLMCLLPASRSQMPVSSQQASPCTPEQDWPCWTPCSPKGCPAETKAEATPRSILRSSLNFFLGNKVPAGAEGLSTFPSFSLEKSL']\n",
      "\n",
      "type: misc_feature\n",
      "location: [5212:5230](+)\n",
      "qualifiers:\n",
      "    Key: gene, Value: ['PNPLA3']\n",
      "    Key: gene_synonym, Value: ['ADPN; C22orf20; iPLA(2)epsilon']\n",
      "    Key: note, Value: ['propagated from UniProtKB/Swiss-Prot (Q9NST1.2); Region: GXGXXG. /evidence=ECO:0000255|PROSITE-ProRule:PRU01161']\n",
      "\n",
      "type: misc_feature\n",
      "location: [5296:5359](+)\n",
      "qualifiers:\n",
      "    Key: gene, Value: ['PNPLA3']\n",
      "    Key: gene_synonym, Value: ['ADPN; C22orf20; iPLA(2)epsilon']\n",
      "    Key: note, Value: ['propagated from UniProtKB/Swiss-Prot (Q9NST1.2); transmembrane region']\n",
      "\n",
      "type: misc_feature\n",
      "location: [5305:5320](+)\n",
      "qualifiers:\n",
      "    Key: gene, Value: ['PNPLA3']\n",
      "    Key: gene_synonym, Value: ['ADPN; C22orf20; iPLA(2)epsilon']\n",
      "    Key: note, Value: ['propagated from UniProtKB/Swiss-Prot (Q9NST1.2); Region: GXSXG. /evidence=ECO:0000255|PROSITE-ProRule:PRU01161']\n",
      "\n",
      "type: misc_feature\n",
      "location: [8273:8276](+)\n",
      "qualifiers:\n",
      "    Key: gene, Value: ['PNPLA3']\n",
      "    Key: gene_synonym, Value: ['ADPN; C22orf20; iPLA(2)epsilon']\n",
      "    Key: note, Value: ['N-linked (GlcNAc...) asparagine. /evidence=ECO:0000255; propagated from UniProtKB/Swiss-Prot (Q9NST1.2); glycosylation site']\n",
      "\n",
      "type: misc_feature\n",
      "location: [14148:14157](+)\n",
      "qualifiers:\n",
      "    Key: gene, Value: ['PNPLA3']\n",
      "    Key: gene_synonym, Value: ['ADPN; C22orf20; iPLA(2)epsilon']\n",
      "    Key: note, Value: ['propagated from UniProtKB/Swiss-Prot (Q9NST1.2); Region: DGA/G. /evidence=ECO:0000255|PROSITE-ProRule:PRU01161']\n",
      "\n",
      "type: misc_feature\n",
      "location: [18392:18395](+)\n",
      "qualifiers:\n",
      "    Key: gene, Value: ['PNPLA3']\n",
      "    Key: gene_synonym, Value: ['ADPN; C22orf20; iPLA(2)epsilon']\n",
      "    Key: note, Value: ['N-linked (GlcNAc...) asparagine. /evidence=ECO:0000255; propagated from UniProtKB/Swiss-Prot (Q9NST1.2); glycosylation site']\n",
      "\n",
      "type: exon\n",
      "location: [8196:8429](+)\n",
      "qualifiers:\n",
      "    Key: gene, Value: ['PNPLA3']\n",
      "    Key: gene_synonym, Value: ['ADPN; C22orf20; iPLA(2)epsilon']\n",
      "    Key: inference, Value: ['alignment:Splign:2.1.0']\n",
      "    Key: number, Value: ['2']\n",
      "\n",
      "type: exon\n",
      "location: [10085:10151](+)\n",
      "qualifiers:\n",
      "    Key: gene, Value: ['PNPLA3']\n",
      "    Key: gene_synonym, Value: ['ADPN; C22orf20; iPLA(2)epsilon']\n",
      "    Key: inference, Value: ['alignment:Splign:2.1.0']\n",
      "    Key: number, Value: ['3']\n",
      "\n",
      "type: exon\n",
      "location: [14139:14349](+)\n",
      "qualifiers:\n",
      "    Key: gene, Value: ['PNPLA3']\n",
      "    Key: gene_synonym, Value: ['ADPN; C22orf20; iPLA(2)epsilon']\n",
      "    Key: inference, Value: ['alignment:Splign:2.1.0']\n",
      "    Key: number, Value: ['4']\n",
      "\n",
      "type: exon\n",
      "location: [15867:15928](+)\n",
      "qualifiers:\n",
      "    Key: gene, Value: ['PNPLA3']\n",
      "    Key: gene_synonym, Value: ['ADPN; C22orf20; iPLA(2)epsilon']\n",
      "    Key: inference, Value: ['alignment:Splign:2.1.0']\n",
      "    Key: number, Value: ['5']\n",
      "\n",
      "type: exon\n",
      "location: [18312:18534](+)\n",
      "qualifiers:\n",
      "    Key: gene, Value: ['PNPLA3']\n",
      "    Key: gene_synonym, Value: ['ADPN; C22orf20; iPLA(2)epsilon']\n",
      "    Key: inference, Value: ['alignment:Splign:2.1.0']\n",
      "    Key: number, Value: ['6']\n",
      "\n",
      "type: exon\n",
      "location: [21254:21387](+)\n",
      "qualifiers:\n",
      "    Key: gene, Value: ['PNPLA3']\n",
      "    Key: gene_synonym, Value: ['ADPN; C22orf20; iPLA(2)epsilon']\n",
      "    Key: inference, Value: ['alignment:Splign:2.1.0']\n",
      "    Key: number, Value: ['7']\n",
      "\n",
      "type: exon\n",
      "location: [25952:26057](+)\n",
      "qualifiers:\n",
      "    Key: gene, Value: ['PNPLA3']\n",
      "    Key: gene_synonym, Value: ['ADPN; C22orf20; iPLA(2)epsilon']\n",
      "    Key: inference, Value: ['alignment:Splign:2.1.0']\n",
      "    Key: number, Value: ['8']\n",
      "\n",
      "type: exon\n",
      "location: [27415:28844](+)\n",
      "qualifiers:\n",
      "    Key: gene, Value: ['PNPLA3']\n",
      "    Key: gene_synonym, Value: ['ADPN; C22orf20; iPLA(2)epsilon']\n",
      "    Key: inference, Value: ['alignment:Splign:2.1.0']\n",
      "    Key: number, Value: ['9']\n",
      "\n"
     ]
    }
   ],
   "source": [
    "for feat in record_PNPLA3.features:\n",
    "    print(feat)"
   ]
  },
  {
   "cell_type": "code",
   "execution_count": 9,
   "id": "6d3c4526",
   "metadata": {},
   "outputs": [
    {
     "name": "stdout",
     "output_type": "stream",
     "text": [
      "19 features\n"
     ]
    }
   ],
   "source": [
    "tam_feature=(len(record_PNPLA3.features))\n",
    "print(tam_feature , \"features\")"
   ]
  },
  {
   "cell_type": "code",
   "execution_count": 10,
   "id": "3f5cb3cb",
   "metadata": {
    "scrolled": true
   },
   "outputs": [
    {
     "name": "stdout",
     "output_type": "stream",
     "text": [
      "[0:30830](+)\n",
      "source\n",
      "[5066:28844](+)\n",
      "gene\n",
      "join{[5066:5360](+), [8196:8429](+), [10085:10151](+), [14139:14349](+), [15867:15928](+), [18312:18534](+), [21254:21387](+), [25952:26057](+), [27415:28844](+)}\n",
      "mRNA\n",
      "[5066:5360](+)\n",
      "exon\n",
      "join{[5173:5360](+), [8196:8429](+), [10085:10151](+), [14139:14349](+), [15867:15928](+), [18312:18534](+), [21254:21387](+), [25952:26057](+), [27415:27644](+)}\n",
      "CDS\n",
      "[5212:5230](+)\n",
      "misc_feature\n",
      "[5296:5359](+)\n",
      "misc_feature\n",
      "[5305:5320](+)\n",
      "misc_feature\n",
      "[8273:8276](+)\n",
      "misc_feature\n",
      "[14148:14157](+)\n",
      "misc_feature\n",
      "[18392:18395](+)\n",
      "misc_feature\n",
      "[8196:8429](+)\n",
      "exon\n",
      "[10085:10151](+)\n",
      "exon\n",
      "[14139:14349](+)\n",
      "exon\n",
      "[15867:15928](+)\n",
      "exon\n",
      "[18312:18534](+)\n",
      "exon\n",
      "[21254:21387](+)\n",
      "exon\n",
      "[25952:26057](+)\n",
      "exon\n",
      "[27415:28844](+)\n",
      "exon\n"
     ]
    }
   ],
   "source": [
    "feature=[]\n",
    "for k in range(tam_feature):\n",
    "    feature.append(k)\n",
    "for i in feature:\n",
    "    print(record_PNPLA3.features[i].location)\n",
    "    print(record_PNPLA3.features[i].type)"
   ]
  },
  {
   "cell_type": "code",
   "execution_count": 11,
   "id": "038209fd",
   "metadata": {},
   "outputs": [
    {
     "name": "stdout",
     "output_type": "stream",
     "text": [
      "organismo:  ['Homo sapiens']\n",
      "tipo de molécula:  ['genomic DNA']\n",
      "referência externa:  ['taxon:9606']\n",
      "cromossoma:  ['22']\n"
     ]
    }
   ],
   "source": [
    "featsource=[]\n",
    "for i in range(tam_feature):\n",
    "    if record_PNPLA3.features[i].type==\"source\":\n",
    "        featsource.append(i)\n",
    "for k in featsource:\n",
    "    #print(record_PNPLA3.features[k].qualifiers)\n",
    "    print(\"organismo: \",record_PNPLA3.features[k].qualifiers['organism'])\n",
    "    print(\"tipo de molécula: \",record_PNPLA3.features[k].qualifiers['mol_type'])\n",
    "    print(\"referência externa: \",record_PNPLA3.features[k].qualifiers['db_xref'])\n",
    "    print(\"cromossoma: \", record_PNPLA3.features[k].qualifiers['chromosome'])"
   ]
  },
  {
   "cell_type": "code",
   "execution_count": 12,
   "id": "d665bc89",
   "metadata": {},
   "outputs": [
    {
     "name": "stdout",
     "output_type": "stream",
     "text": [
      "existe  1  gene(s) anotado(s) no registo\n",
      "[{2: ['PNPLA3']}]\n"
     ]
    }
   ],
   "source": [
    "s=0\n",
    "genes=[]\n",
    "for j in range(tam_feature):\n",
    "    if record_PNPLA3.features[j].type==\"gene\":\n",
    "        s=s+1\n",
    "        genes.append({(j+1):record_PNPLA3.features[j].qualifiers[\"gene\"]}) #j+1 pq a contagem começa em zero\n",
    "print(\"existe \",s, \" gene(s) anotado(s) no registo\")\n",
    "print(genes)"
   ]
  },
  {
   "cell_type": "code",
   "execution_count": 13,
   "id": "3ff8794b",
   "metadata": {},
   "outputs": [
    {
     "name": "stdout",
     "output_type": "stream",
     "text": [
      "Genes anotados: \n",
      "\n",
      "gene:  ['PNPLA3']\n",
      "gene sinónimo:  ['ADPN; C22orf20; iPLA(2)epsilon']\n",
      "nota:  ['patatin like phospholipase domain containing 3']\n",
      "referências externas:  ['GeneID:80339', 'HGNC:HGNC:18590', 'MIM:609567']\n"
     ]
    }
   ],
   "source": [
    "featgene=[]\n",
    "for i in range(tam_feature):\n",
    "    if record_PNPLA3.features[i].type==\"gene\":\n",
    "        featgene.append(i)\n",
    "print(\"Genes anotados: \")\n",
    "for k in featgene:\n",
    "    print(\"\")\n",
    "    print(\"gene: \", record_PNPLA3.features[k].qualifiers['gene'])\n",
    "    print(\"gene sinónimo: \",record_PNPLA3.features[k].qualifiers['gene_synonym'])\n",
    "    print(\"nota: \",record_PNPLA3.features[k].qualifiers['note'])\n",
    "    print(\"referências externas: \",record_PNPLA3.features[k].qualifiers['db_xref'])"
   ]
  },
  {
   "cell_type": "code",
   "execution_count": 14,
   "id": "75b881c8",
   "metadata": {},
   "outputs": [
    {
     "name": "stdout",
     "output_type": "stream",
     "text": [
      "existe  1  mRNA(s) anotado(s) no registo\n",
      "[{2: ['PNPLA3']}]\n"
     ]
    }
   ],
   "source": [
    "soma=0\n",
    "mRNA=[]\n",
    "for j in range(tam_feature):\n",
    "    if record_PNPLA3.features[j].type==\"mRNA\":\n",
    "        soma=soma+1\n",
    "        mRNA.append({(j+1):record_PNPLA3.features[j].qualifiers[\"gene\"]}) #j+1 pq a contagem começa em zero\n",
    "print(\"existe \",s, \" mRNA(s) anotado(s) no registo\")\n",
    "print(genes)"
   ]
  },
  {
   "cell_type": "code",
   "execution_count": 15,
   "id": "cdbef19c",
   "metadata": {},
   "outputs": [
    {
     "name": "stdout",
     "output_type": "stream",
     "text": [
      "mRNAs anotados: \n",
      "\n",
      "gene:  ['PNPLA3']\n",
      "gene sinónimo:  ['ADPN; C22orf20; iPLA(2)epsilon']\n",
      "id da transcriptação:  ['NM_025225.3']\n",
      "produto/ significado biológico:  ['patatin like phospholipase domain containing 3']\n",
      "referências externas:  ['GeneID:80339', 'HGNC:HGNC:18590', 'MIM:609567']\n"
     ]
    }
   ],
   "source": [
    "featmRNA=[]\n",
    "for i in range(tam_feature):\n",
    "    if record_PNPLA3.features[i].type==\"mRNA\":\n",
    "        featmRNA.append(i)\n",
    "print(\"mRNAs anotados: \")\n",
    "for k in featmRNA:\n",
    "    print(\"\")\n",
    "    print(\"gene: \", record_PNPLA3.features[k].qualifiers['gene'])\n",
    "    print(\"gene sinónimo: \",record_PNPLA3.features[k].qualifiers['gene_synonym'])\n",
    "    print(\"id da transcriptação: \",record_PNPLA3.features[k].qualifiers['transcript_id'])\n",
    "    print(\"produto/ significado biológico: \",record_PNPLA3.features[k].qualifiers['product'])\n",
    "    print(\"referências externas: \",record_PNPLA3.features[k].qualifiers['db_xref'])"
   ]
  },
  {
   "cell_type": "code",
   "execution_count": 22,
   "id": "76107884",
   "metadata": {},
   "outputs": [
    {
     "name": "stdout",
     "output_type": "stream",
     "text": [
      "nº de exões:  9\n",
      "[{4: FeatureLocation(ExactPosition(5066), ExactPosition(5360), strand=1)}, {12: FeatureLocation(ExactPosition(8196), ExactPosition(8429), strand=1)}, {13: FeatureLocation(ExactPosition(10085), ExactPosition(10151), strand=1)}, {14: FeatureLocation(ExactPosition(14139), ExactPosition(14349), strand=1)}, {15: FeatureLocation(ExactPosition(15867), ExactPosition(15928), strand=1)}, {16: FeatureLocation(ExactPosition(18312), ExactPosition(18534), strand=1)}, {17: FeatureLocation(ExactPosition(21254), ExactPosition(21387), strand=1)}, {18: FeatureLocation(ExactPosition(25952), ExactPosition(26057), strand=1)}, {19: FeatureLocation(ExactPosition(27415), ExactPosition(28844), strand=1)}]\n"
     ]
    }
   ],
   "source": [
    "som=0\n",
    "exon=[]\n",
    "for j in range(tam_feature):\n",
    "    if record_PNPLA3.features[j].type==\"exon\":\n",
    "        som=som+1\n",
    "        exon.append({(j+1):record_PNPLA3.features[j].location}) #j+1 pq a contagem começa em zero\n",
    "print(\"nº de exões: \",som, )\n",
    "print(exon)"
   ]
  },
  {
   "cell_type": "code",
   "execution_count": 16,
   "id": "cee2906b",
   "metadata": {},
   "outputs": [
    {
     "name": "stdout",
     "output_type": "stream",
     "text": [
      "existe  1  sequência(s) codificante(s) anotada(s) no registo\n",
      "[{5: ['PNPLA3']}]\n"
     ]
    }
   ],
   "source": [
    "so=0\n",
    "seq_cod=[]\n",
    "for j in range(tam_feature):\n",
    "    if record_PNPLA3.features[j].type==\"CDS\":\n",
    "        so=so+1\n",
    "        seq_cod.append({(j+1):record_PNPLA3.features[j].qualifiers[\"gene\"]}) \n",
    "print(\"existe \",so, \" sequência(s) codificante(s) anotada(s) no registo\")\n",
    "print(seq_cod)"
   ]
  },
  {
   "cell_type": "code",
   "execution_count": 23,
   "id": "616964f9",
   "metadata": {},
   "outputs": [
    {
     "name": "stdout",
     "output_type": "stream",
     "text": [
      "Proteínas codificadas\n",
      " \n",
      "gene:  ['PNPLA3']\n",
      "gene sinónimo:  ['ADPN; C22orf20; iPLA(2)epsilon']\n",
      "id da proteína:  ['NP_079501.2']\n",
      "codão Start:  ['1']\n",
      "produto/ significado biológico:  ['1-acylglycerol-3-phosphate O-acyltransferase PNPLA3']\n",
      "nota:  ['adiponutrin; patatin-like phospholipase domain-containing protein 3; acylglycerol O-acyltransferase; calcium-independent phospholipase A2-epsilon; iPLA2epsilon; iPLA2-epsilon; acylglycerol transacylase; lysophosphatidic acid acyltransferase']\n",
      "referências externas:  ['CCDS:CCDS14054.1', 'GeneID:80339', 'HGNC:HGNC:18590', 'MIM:609567']\n",
      "sequência de aminoácidos transcrita:  ['MYDAERGWSLSFAGCGFLGFYHVGATRCLSEHAPHLLRDARMLFGASAGALHCVGVLSGIPLEQTLQVLSDLVRKARSRNIGIFHPSFNLSKFLRQGLCKCLPANVHQLISGKIGISLTRVSDGENVLVSDFRSKDEVVDALVCSCFIPFYSGLIPPSFRGVRYVDGGVSDNVPFIDAKTTITVSPFYGEYDICPKVKSTNFLHVDITKLSLRLCTGNLYLLSRAFVPPDLKVLGEICLRGYLDAFRFLEEKGICNRPQPGLKSSSEGMDPEVAMPSWANMSLDSSPESAALAVRLEGDELLDHLRLSILPWDESILDTLSPRLATALSEEMKDKGGYMSKICNLLPIRIMSYVMLPCTLPVESAIAIVQRLVTWLPDMPDDVLWLQWVTSQVFTRVLMCLLPASRSQMPVSSQQASPCTPEQDWPCWTPCSPKGCPAETKAEATPRSILRSSLNFFLGNKVPAGAEGLSTFPSFSLEKSL']\n"
     ]
    }
   ],
   "source": [
    "featCDS=[]\n",
    "for i in range(tam_feature):\n",
    "    if record_PNPLA3.features[i].type==\"CDS\":\n",
    "        featCDS.append(i)\n",
    "print(\"Proteínas codificadas\")\n",
    "for k in featCDS:\n",
    "    print(\" \")\n",
    "    print(\"gene: \", record_PNPLA3.features[k].qualifiers['gene'])\n",
    "    print(\"gene sinónimo: \",record_PNPLA3.features[k].qualifiers['gene_synonym'])\n",
    "    print(\"id da proteína: \",record_PNPLA3.features[k].qualifiers['protein_id'])\n",
    "    print(\"codão Start: \",record_PNPLA3.features[k].qualifiers['codon_start'])\n",
    "    print(\"produto/ significado biológico: \",record_PNPLA3.features[k].qualifiers['product'])\n",
    "    print(\"nota: \",record_PNPLA3.features[k].qualifiers['note'])\n",
    "    print(\"referências externas: \",record_PNPLA3.features[k].qualifiers['db_xref'])\n",
    "    print(\"sequência de aminoácidos transcrita: \",record_PNPLA3.features[k].qualifiers['translation'])"
   ]
  },
  {
   "cell_type": "code",
   "execution_count": null,
   "id": "780cf2d9",
   "metadata": {},
   "outputs": [],
   "source": []
  }
 ],
 "metadata": {
  "kernelspec": {
   "display_name": "Python 3 (ipykernel)",
   "language": "python",
   "name": "python3"
  },
  "language_info": {
   "codemirror_mode": {
    "name": "ipython",
    "version": 3
   },
   "file_extension": ".py",
   "mimetype": "text/x-python",
   "name": "python",
   "nbconvert_exporter": "python",
   "pygments_lexer": "ipython3",
   "version": "3.9.7"
  }
 },
 "nbformat": 4,
 "nbformat_minor": 5
}
