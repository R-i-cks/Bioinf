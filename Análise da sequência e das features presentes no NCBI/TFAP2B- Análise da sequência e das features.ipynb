{
 "cells": [
  {
   "cell_type": "markdown",
   "id": "f94ceef3",
   "metadata": {},
   "source": [
    "# Análise da sequência e das features presentes no NCBI"
   ]
  },
  {
   "cell_type": "code",
   "execution_count": 1,
   "id": "88370bb4",
   "metadata": {},
   "outputs": [],
   "source": [
    "from Bio import SeqIO\n",
    "from Bio.Seq import Seq\n",
    "from Bio.SeqRecord import SeqRecord\n",
    "from Bio import SeqFeature"
   ]
  },
  {
   "cell_type": "code",
   "execution_count": 2,
   "id": "8aefeff8",
   "metadata": {},
   "outputs": [
    {
     "data": {
      "text/plain": [
       "SeqRecord(seq=Seq('CCTTGTATTTATGAGACACTTCAGCTCTGATGCTATACATTGTATGTGTTTATT...CCC'), id='NG_008438.1', name='NG_008438', description='Homo sapiens transcription factor AP-2 beta (TFAP2B), RefSeqGene on chromosome 6', dbxrefs=[])"
      ]
     },
     "execution_count": 2,
     "metadata": {},
     "output_type": "execute_result"
    }
   ],
   "source": [
    "record_TFAP2B = SeqIO.read(\"TFAP2B.gb\", \"genbank\")\n",
    "record_TFAP2B"
   ]
  },
  {
   "cell_type": "markdown",
   "id": "87ebcbf5",
   "metadata": {},
   "source": [
    "1º verificar as anotações correspondentes aos genes de interesse"
   ]
  },
  {
   "cell_type": "code",
   "execution_count": 3,
   "id": "06ed3fe2",
   "metadata": {},
   "outputs": [
    {
     "name": "stdout",
     "output_type": "stream",
     "text": [
      " tamanho da sequencia:  35888\n"
     ]
    }
   ],
   "source": [
    "tam=len(record_TFAP2B)\n",
    "print(\" tamanho da sequencia: \", tam)\n",
    "#print(record_TFAP2B.seq)"
   ]
  },
  {
   "cell_type": "code",
   "execution_count": 4,
   "id": "046f35d9",
   "metadata": {},
   "outputs": [
    {
     "name": "stdout",
     "output_type": "stream",
     "text": [
      "ID:  NG_008438.1\n",
      "Nome:  NG_008438\n",
      "Descrição:  Homo sapiens transcription factor AP-2 beta (TFAP2B), RefSeqGene on chromosome 6\n"
     ]
    }
   ],
   "source": [
    "print(\"ID: \",record_TFAP2B.id)\n",
    "print(\"Nome: \",record_TFAP2B.name)\n",
    "print(\"Descrição: \", record_TFAP2B.description)"
   ]
  },
  {
   "cell_type": "code",
   "execution_count": 5,
   "id": "993b26a3",
   "metadata": {
    "scrolled": false
   },
   "outputs": [
    {
     "name": "stdout",
     "output_type": "stream",
     "text": [
      "Anotações:  {'molecule_type': 'DNA', 'topology': 'linear', 'data_file_division': 'PRI', 'date': '21-AUG-2022', 'accessions': ['NG_008438'], 'sequence_version': 1, 'keywords': ['RefSeq', 'RefSeqGene'], 'source': 'Homo sapiens (human)', 'organism': 'Homo sapiens', 'taxonomy': ['Eukaryota', 'Metazoa', 'Chordata', 'Craniata', 'Vertebrata', 'Euteleostomi', 'Mammalia', 'Eutheria', 'Euarchontoglires', 'Primates', 'Haplorrhini', 'Catarrhini', 'Hominidae', 'Homo'], 'references': [Reference(title='Mutations in TFAP2B cause Char syndrome, a familial form of patent ductus arteriosus', ...), Reference(title='Char Syndrome', ...)], 'comment': 'REVIEWED REFSEQ: This record has been curated by NCBI staff. The\\nreference sequence was derived from AL031224.1 and AL049693.16.\\nThis sequence is a reference standard in the RefSeqGene project.\\nSummary: This gene encodes a member of the AP-2 family of\\ntranscription factors. AP-2 proteins form homo- or hetero-dimers\\nwith other AP-2 family members and bind specific DNA sequences.\\nThey are thought to stimulate cell proliferation and suppress\\nterminal differentiation of specific cell types during embryonic\\ndevelopment. Specific AP-2 family members differ in their\\nexpression patterns and binding affinity for different promoters.\\nThis protein functions as both a transcriptional activator and\\nrepressor. Mutations in this gene result in autosomal dominant Char\\nsyndrome, suggesting that this gene functions in the\\ndifferentiation of neural crest cell derivatives. [provided by\\nRefSeq, Jul 2008].'}\n"
     ]
    }
   ],
   "source": [
    "print(\"Anotações: \",record_TFAP2B.annotations)"
   ]
  },
  {
   "cell_type": "code",
   "execution_count": 6,
   "id": "02dafc96",
   "metadata": {},
   "outputs": [
    {
     "name": "stdout",
     "output_type": "stream",
     "text": [
      "tipo de molecula:  DNA\n",
      "tpologia:  linear\n",
      "organismo:  Homo sapiens\n",
      "taxonomia:  ['Eukaryota', 'Metazoa', 'Chordata', 'Craniata', 'Vertebrata', 'Euteleostomi', 'Mammalia', 'Eutheria', 'Euarchontoglires', 'Primates', 'Haplorrhini', 'Catarrhini', 'Hominidae', 'Homo']\n"
     ]
    }
   ],
   "source": [
    "print(\"tipo de molecula: \", record_TFAP2B.annotations[\"molecule_type\"])\n",
    "print(\"tpologia: \", record_TFAP2B.annotations[\"topology\"])\n",
    "print(\"organismo: \", record_TFAP2B.annotations[\"organism\"])\n",
    "print(\"taxonomia: \", record_TFAP2B.annotations[\"taxonomy\"])"
   ]
  },
  {
   "cell_type": "markdown",
   "id": "8778b3fa",
   "metadata": {},
   "source": [
    "2º  verificar e analisar a informação complementar fornecida pela lista de features e seus qualifiers"
   ]
  },
  {
   "cell_type": "code",
   "execution_count": 7,
   "id": "d15d4ae7",
   "metadata": {
    "scrolled": false
   },
   "outputs": [
    {
     "name": "stdout",
     "output_type": "stream",
     "text": [
      "[SeqFeature(FeatureLocation(ExactPosition(0), ExactPosition(35888), strand=1), type='source'), SeqFeature(FeatureLocation(ExactPosition(5145), ExactPosition(33894), strand=1), type='gene'), SeqFeature(CompoundLocation([FeatureLocation(ExactPosition(5145), ExactPosition(5247), strand=1), FeatureLocation(ExactPosition(9681), ExactPosition(10140), strand=1), FeatureLocation(ExactPosition(14893), ExactPosition(14954), strand=1), FeatureLocation(ExactPosition(22335), ExactPosition(22555), strand=1), FeatureLocation(ExactPosition(24249), ExactPosition(24368), strand=1), FeatureLocation(ExactPosition(26430), ExactPosition(26572), strand=1), FeatureLocation(ExactPosition(29366), ExactPosition(33894), strand=1)], 'join'), type='mRNA', location_operator='join'), SeqFeature(FeatureLocation(ExactPosition(5145), ExactPosition(5247), strand=1), type='exon'), SeqFeature(CompoundLocation([FeatureLocation(ExactPosition(5166), ExactPosition(5247), strand=1), FeatureLocation(ExactPosition(9681), ExactPosition(10140), strand=1), FeatureLocation(ExactPosition(14893), ExactPosition(14954), strand=1), FeatureLocation(ExactPosition(22335), ExactPosition(22555), strand=1), FeatureLocation(ExactPosition(24249), ExactPosition(24368), strand=1), FeatureLocation(ExactPosition(26430), ExactPosition(26572), strand=1), FeatureLocation(ExactPosition(29366), ExactPosition(29667), strand=1)], 'join'), type='CDS', location_operator='join'), SeqFeature(FeatureLocation(ExactPosition(9687), ExactPosition(10017), strand=1), type='misc_feature'), SeqFeature(FeatureLocation(ExactPosition(22505), ExactPosition(22508), strand=1), type='misc_feature'), SeqFeature(FeatureLocation(ExactPosition(29586), ExactPosition(29664), strand=1), type='misc_feature'), SeqFeature(FeatureLocation(ExactPosition(9681), ExactPosition(10140), strand=1), type='exon'), SeqFeature(FeatureLocation(ExactPosition(14893), ExactPosition(14954), strand=1), type='exon'), SeqFeature(FeatureLocation(ExactPosition(22335), ExactPosition(22555), strand=1), type='exon'), SeqFeature(FeatureLocation(ExactPosition(24249), ExactPosition(24368), strand=1), type='exon'), SeqFeature(FeatureLocation(ExactPosition(26430), ExactPosition(26572), strand=1), type='exon'), SeqFeature(FeatureLocation(ExactPosition(29366), ExactPosition(33894), strand=1), type='exon')]\n"
     ]
    }
   ],
   "source": [
    "print(record_TFAP2B.features)"
   ]
  },
  {
   "cell_type": "code",
   "execution_count": 8,
   "id": "2f5b3398",
   "metadata": {},
   "outputs": [
    {
     "name": "stdout",
     "output_type": "stream",
     "text": [
      "type: source\n",
      "location: [0:35888](+)\n",
      "qualifiers:\n",
      "    Key: chromosome, Value: ['6']\n",
      "    Key: db_xref, Value: ['taxon:9606']\n",
      "    Key: map, Value: ['6p12.3']\n",
      "    Key: mol_type, Value: ['genomic DNA']\n",
      "    Key: organism, Value: ['Homo sapiens']\n",
      "\n",
      "type: gene\n",
      "location: [5145:33894](+)\n",
      "qualifiers:\n",
      "    Key: db_xref, Value: ['GeneID:7021', 'HGNC:HGNC:11743', 'MIM:601601']\n",
      "    Key: gene, Value: ['TFAP2B']\n",
      "    Key: gene_synonym, Value: ['AP-2B; AP-2beta; AP2-B; PDA2']\n",
      "    Key: note, Value: ['transcription factor AP-2 beta']\n",
      "\n",
      "type: mRNA\n",
      "location: join{[5145:5247](+), [9681:10140](+), [14893:14954](+), [22335:22555](+), [24249:24368](+), [26430:26572](+), [29366:33894](+)}\n",
      "qualifiers:\n",
      "    Key: db_xref, Value: ['GeneID:7021', 'HGNC:HGNC:11743', 'MIM:601601']\n",
      "    Key: gene, Value: ['TFAP2B']\n",
      "    Key: gene_synonym, Value: ['AP-2B; AP-2beta; AP2-B; PDA2']\n",
      "    Key: product, Value: ['transcription factor AP-2 beta']\n",
      "    Key: transcript_id, Value: ['NM_003221.4']\n",
      "\n",
      "type: exon\n",
      "location: [5145:5247](+)\n",
      "qualifiers:\n",
      "    Key: gene, Value: ['TFAP2B']\n",
      "    Key: gene_synonym, Value: ['AP-2B; AP-2beta; AP2-B; PDA2']\n",
      "    Key: inference, Value: ['alignment:Splign:2.1.0']\n",
      "    Key: number, Value: ['1']\n",
      "\n",
      "type: CDS\n",
      "location: join{[5166:5247](+), [9681:10140](+), [14893:14954](+), [22335:22555](+), [24249:24368](+), [26430:26572](+), [29366:29667](+)}\n",
      "qualifiers:\n",
      "    Key: codon_start, Value: ['1']\n",
      "    Key: db_xref, Value: ['CCDS:CCDS4934.2', 'GeneID:7021', 'HGNC:HGNC:11743', 'MIM:601601']\n",
      "    Key: gene, Value: ['TFAP2B']\n",
      "    Key: gene_synonym, Value: ['AP-2B; AP-2beta; AP2-B; PDA2']\n",
      "    Key: note, Value: ['activating enhancer binding protein 2 beta; AP2-beta']\n",
      "    Key: product, Value: ['transcription factor AP-2-beta']\n",
      "    Key: protein_id, Value: ['NP_003212.2']\n",
      "    Key: translation, Value: ['MHSPPRDQAAIMLWKLVENVKYEDIYEDRHDGVPSHSSRLSQLGSVSQGPYSSAPPLSHTPSSDFQPPYFPPPYQPLPYHQSQDPYSHVNDPYSLNPLHQPQQHPWGQRQRQEVGSEAGSLLPQPRAALPQLSGLDPRRDYHSVRRPDVLLHSAHHGLDAGMGDSLSLHGLGHPGMEDVQSVEDANNSGMNLLDQSVIKKVPVPPKSVTSLMMNKDGFLGGMSVNTGEVFCSVPGRLSLLSSTSKYKVTVGEVQRRLSPPECLNASLLGGVLRRAKSKNGGRSLRERLEKIGLNLPAGRRKAANVTLLTSLVEGEAVHLARDFGYICETEFPAKAVSEYLNRQHTDPSDLHSRKNMLLATKQLCKEFTDLLAQDRTPIGNSRPSPILEPGIQSCLTHFSLITHGFGAPAICAALTALQNYLTEALKGMDKMFLNNTTTNRHTSGEGPGSKTGDKEEKHRK']\n",
      "\n",
      "type: misc_feature\n",
      "location: [9687:10017](+)\n",
      "qualifiers:\n",
      "    Key: gene, Value: ['TFAP2B']\n",
      "    Key: gene_synonym, Value: ['AP-2B; AP-2beta; AP2-B; PDA2']\n",
      "    Key: note, Value: ['propagated from UniProtKB/Swiss-Prot (Q92481.2); Region: Disordered. /evidence=ECO:0000256|SAM:MobiDB-lite']\n",
      "\n",
      "type: misc_feature\n",
      "location: [22505:22508](+)\n",
      "qualifiers:\n",
      "    Key: gene, Value: ['TFAP2B']\n",
      "    Key: gene_synonym, Value: ['AP-2B; AP-2beta; AP2-B; PDA2']\n",
      "    Key: note, Value: ['Phosphoserine, by PKA. /evidence=ECO:0000250; propagated from UniProtKB/Swiss-Prot (Q92481.2); phosphorylation site']\n",
      "\n",
      "type: misc_feature\n",
      "location: [29586:29664](+)\n",
      "qualifiers:\n",
      "    Key: gene, Value: ['TFAP2B']\n",
      "    Key: gene_synonym, Value: ['AP-2B; AP-2beta; AP2-B; PDA2']\n",
      "    Key: note, Value: ['propagated from UniProtKB/Swiss-Prot (Q92481.2); Region: Disordered. /evidence=ECO:0000256|SAM:MobiDB-lite']\n",
      "\n",
      "type: exon\n",
      "location: [9681:10140](+)\n",
      "qualifiers:\n",
      "    Key: gene, Value: ['TFAP2B']\n",
      "    Key: gene_synonym, Value: ['AP-2B; AP-2beta; AP2-B; PDA2']\n",
      "    Key: inference, Value: ['alignment:Splign:2.1.0']\n",
      "    Key: number, Value: ['2']\n",
      "\n",
      "type: exon\n",
      "location: [14893:14954](+)\n",
      "qualifiers:\n",
      "    Key: gene, Value: ['TFAP2B']\n",
      "    Key: gene_synonym, Value: ['AP-2B; AP-2beta; AP2-B; PDA2']\n",
      "    Key: inference, Value: ['alignment:Splign:2.1.0']\n",
      "    Key: number, Value: ['3']\n",
      "\n",
      "type: exon\n",
      "location: [22335:22555](+)\n",
      "qualifiers:\n",
      "    Key: gene, Value: ['TFAP2B']\n",
      "    Key: gene_synonym, Value: ['AP-2B; AP-2beta; AP2-B; PDA2']\n",
      "    Key: inference, Value: ['alignment:Splign:2.1.0']\n",
      "    Key: number, Value: ['4']\n",
      "\n",
      "type: exon\n",
      "location: [24249:24368](+)\n",
      "qualifiers:\n",
      "    Key: gene, Value: ['TFAP2B']\n",
      "    Key: gene_synonym, Value: ['AP-2B; AP-2beta; AP2-B; PDA2']\n",
      "    Key: inference, Value: ['alignment:Splign:2.1.0']\n",
      "    Key: number, Value: ['5']\n",
      "\n",
      "type: exon\n",
      "location: [26430:26572](+)\n",
      "qualifiers:\n",
      "    Key: gene, Value: ['TFAP2B']\n",
      "    Key: gene_synonym, Value: ['AP-2B; AP-2beta; AP2-B; PDA2']\n",
      "    Key: inference, Value: ['alignment:Splign:2.1.0']\n",
      "    Key: number, Value: ['6']\n",
      "\n",
      "type: exon\n",
      "location: [29366:33894](+)\n",
      "qualifiers:\n",
      "    Key: gene, Value: ['TFAP2B']\n",
      "    Key: gene_synonym, Value: ['AP-2B; AP-2beta; AP2-B; PDA2']\n",
      "    Key: inference, Value: ['alignment:Splign:2.1.0']\n",
      "    Key: number, Value: ['7']\n",
      "\n"
     ]
    }
   ],
   "source": [
    "for feat in record_TFAP2B.features:\n",
    "    print(feat)"
   ]
  },
  {
   "cell_type": "code",
   "execution_count": 9,
   "id": "28f629a5",
   "metadata": {},
   "outputs": [
    {
     "name": "stdout",
     "output_type": "stream",
     "text": [
      "14 features\n"
     ]
    }
   ],
   "source": [
    "tam_feature=(len(record_TFAP2B.features))\n",
    "print(tam_feature , \"features\")"
   ]
  },
  {
   "cell_type": "code",
   "execution_count": 10,
   "id": "d19f3855",
   "metadata": {
    "scrolled": true
   },
   "outputs": [
    {
     "name": "stdout",
     "output_type": "stream",
     "text": [
      "[0:35888](+)\n",
      "source\n",
      "[5145:33894](+)\n",
      "gene\n",
      "join{[5145:5247](+), [9681:10140](+), [14893:14954](+), [22335:22555](+), [24249:24368](+), [26430:26572](+), [29366:33894](+)}\n",
      "mRNA\n",
      "[5145:5247](+)\n",
      "exon\n",
      "join{[5166:5247](+), [9681:10140](+), [14893:14954](+), [22335:22555](+), [24249:24368](+), [26430:26572](+), [29366:29667](+)}\n",
      "CDS\n",
      "[9687:10017](+)\n",
      "misc_feature\n",
      "[22505:22508](+)\n",
      "misc_feature\n",
      "[29586:29664](+)\n",
      "misc_feature\n",
      "[9681:10140](+)\n",
      "exon\n",
      "[14893:14954](+)\n",
      "exon\n",
      "[22335:22555](+)\n",
      "exon\n",
      "[24249:24368](+)\n",
      "exon\n",
      "[26430:26572](+)\n",
      "exon\n",
      "[29366:33894](+)\n",
      "exon\n"
     ]
    }
   ],
   "source": [
    "feature=[]\n",
    "for k in range(tam_feature):\n",
    "    feature.append(k)\n",
    "for i in feature:\n",
    "    print(record_TFAP2B.features[i].location)\n",
    "    print(record_TFAP2B.features[i].type)"
   ]
  },
  {
   "cell_type": "code",
   "execution_count": 11,
   "id": "24d8dbe9",
   "metadata": {
    "scrolled": true
   },
   "outputs": [
    {
     "name": "stdout",
     "output_type": "stream",
     "text": [
      "organismo:  ['Homo sapiens']\n",
      "tipo de molécula:  ['genomic DNA']\n",
      "referência externa:  ['taxon:9606']\n",
      "cromossoma:  ['6']\n"
     ]
    }
   ],
   "source": [
    "featsource=[]\n",
    "for i in range(tam_feature):\n",
    "    if record_TFAP2B.features[i].type==\"source\":\n",
    "        featsource.append(i)\n",
    "for k in featsource:\n",
    "    #print(record_TFAP2B.features[k].qualifiers)\n",
    "    print(\"organismo: \",record_TFAP2B.features[k].qualifiers['organism'])\n",
    "    print(\"tipo de molécula: \",record_TFAP2B.features[k].qualifiers['mol_type'])\n",
    "    print(\"referência externa: \",record_TFAP2B.features[k].qualifiers['db_xref'])\n",
    "    print(\"cromossoma: \", record_TFAP2B.features[k].qualifiers['chromosome'])"
   ]
  },
  {
   "cell_type": "code",
   "execution_count": 12,
   "id": "7f41be41",
   "metadata": {},
   "outputs": [
    {
     "name": "stdout",
     "output_type": "stream",
     "text": [
      "existe  1  gene(s) anotado(s) no registo\n",
      "[{2: ['TFAP2B']}]\n"
     ]
    }
   ],
   "source": [
    "s=0\n",
    "genes=[]\n",
    "for j in range(tam_feature):\n",
    "    if record_TFAP2B.features[j].type==\"gene\":\n",
    "        s=s+1\n",
    "        genes.append({(j+1):record_TFAP2B.features[j].qualifiers[\"gene\"]}) #j+1 pq a contagem começa em zero\n",
    "print(\"existe \",s, \" gene(s) anotado(s) no registo\")\n",
    "print(genes)"
   ]
  },
  {
   "cell_type": "code",
   "execution_count": 13,
   "id": "5f9e4d76",
   "metadata": {},
   "outputs": [
    {
     "name": "stdout",
     "output_type": "stream",
     "text": [
      "Genes anotados: \n",
      "\n",
      "gene:  ['TFAP2B']\n",
      "gene sinónimo:  ['AP-2B; AP-2beta; AP2-B; PDA2']\n",
      "nota:  ['transcription factor AP-2 beta']\n",
      "referências externas:  ['GeneID:7021', 'HGNC:HGNC:11743', 'MIM:601601']\n"
     ]
    }
   ],
   "source": [
    "featgene=[]\n",
    "for i in range(tam_feature):\n",
    "    if record_TFAP2B.features[i].type==\"gene\":\n",
    "        featgene.append(i)\n",
    "print(\"Genes anotados: \")\n",
    "for k in featgene:\n",
    "    print(\"\")\n",
    "    print(\"gene: \", record_TFAP2B.features[k].qualifiers['gene'])\n",
    "    print(\"gene sinónimo: \",record_TFAP2B.features[k].qualifiers['gene_synonym'])\n",
    "    print(\"nota: \",record_TFAP2B.features[k].qualifiers['note'])\n",
    "    print(\"referências externas: \",record_TFAP2B.features[k].qualifiers['db_xref'])"
   ]
  },
  {
   "cell_type": "code",
   "execution_count": 22,
   "id": "e37c0678",
   "metadata": {},
   "outputs": [
    {
     "name": "stdout",
     "output_type": "stream",
     "text": [
      "existe  1  mRNA(s) anotado(s) no registo\n",
      "[{2: ['TFAP2B']}]\n"
     ]
    }
   ],
   "source": [
    "soma=0\n",
    "mRNA=[]\n",
    "for j in range(tam_feature):\n",
    "    if record_TFAP2B.features[j].type==\"mRNA\":\n",
    "        soma=soma+1\n",
    "        mRNA.append({(j+1):record_TFAP2B.features[j].qualifiers[\"gene\"]}) #j+1 pq a contagem começa em zero\n",
    "print(\"existe \",soma, \" mRNA(s) anotado(s) no registo\")\n",
    "print(genes)"
   ]
  },
  {
   "cell_type": "code",
   "execution_count": 23,
   "id": "6bf752c3",
   "metadata": {},
   "outputs": [
    {
     "name": "stdout",
     "output_type": "stream",
     "text": [
      "mRNAs anotados: \n",
      "\n",
      "gene:  ['TFAP2B']\n",
      "gene sinónimo:  ['AP-2B; AP-2beta; AP2-B; PDA2']\n",
      "id da transcriptação:  ['NM_003221.4']\n",
      "produto/ significado biológico:  ['transcription factor AP-2 beta']\n",
      "referências externas:  ['GeneID:7021', 'HGNC:HGNC:11743', 'MIM:601601']\n"
     ]
    }
   ],
   "source": [
    "featmRNA=[]\n",
    "for i in range(tam_feature):\n",
    "    if record_TFAP2B.features[i].type==\"mRNA\":\n",
    "        featmRNA.append(i)\n",
    "print(\"mRNAs anotados: \")\n",
    "for k in featmRNA:\n",
    "    print(\"\")\n",
    "    print(\"gene: \", record_TFAP2B.features[k].qualifiers['gene'])\n",
    "    print(\"gene sinónimo: \",record_TFAP2B.features[k].qualifiers['gene_synonym'])\n",
    "    print(\"id da transcriptação: \",record_TFAP2B.features[k].qualifiers['transcript_id'])\n",
    "    print(\"produto/ significado biológico: \",record_TFAP2B.features[k].qualifiers['product'])\n",
    "    print(\"referências externas: \",record_TFAP2B.features[k].qualifiers['db_xref'])"
   ]
  },
  {
   "cell_type": "code",
   "execution_count": 29,
   "id": "b035954f",
   "metadata": {},
   "outputs": [
    {
     "name": "stdout",
     "output_type": "stream",
     "text": [
      "nº de exões:  7\n",
      "[{4: FeatureLocation(ExactPosition(5145), ExactPosition(5247), strand=1)}, {9: FeatureLocation(ExactPosition(9681), ExactPosition(10140), strand=1)}, {10: FeatureLocation(ExactPosition(14893), ExactPosition(14954), strand=1)}, {11: FeatureLocation(ExactPosition(22335), ExactPosition(22555), strand=1)}, {12: FeatureLocation(ExactPosition(24249), ExactPosition(24368), strand=1)}, {13: FeatureLocation(ExactPosition(26430), ExactPosition(26572), strand=1)}, {14: FeatureLocation(ExactPosition(29366), ExactPosition(33894), strand=1)}]\n"
     ]
    }
   ],
   "source": [
    "som=0\n",
    "exon=[]\n",
    "for j in range(tam_feature):\n",
    "    if record_TFAP2B.features[j].type==\"exon\":\n",
    "        som=som+1\n",
    "        exon.append({(j+1):record_TFAP2B.features[j].location}) #j+1 pq a contagem começa em zero\n",
    "print(\"nº de exões: \",som)\n",
    "print(exon)"
   ]
  },
  {
   "cell_type": "code",
   "execution_count": 25,
   "id": "a34a5928",
   "metadata": {},
   "outputs": [
    {
     "name": "stdout",
     "output_type": "stream",
     "text": [
      "existe  1  sequência(s) codificante(s) anotada(s) no registo\n",
      "[{5: ['TFAP2B']}]\n"
     ]
    }
   ],
   "source": [
    "so=0\n",
    "seq_cod=[]\n",
    "for j in range(tam_feature):\n",
    "    if record_TFAP2B.features[j].type==\"CDS\":\n",
    "        so=so+1\n",
    "        seq_cod.append({(j+1):record_TFAP2B.features[j].qualifiers[\"gene\"]}) \n",
    "print(\"existe \",so, \" sequência(s) codificante(s) anotada(s) no registo\")\n",
    "print(seq_cod)"
   ]
  },
  {
   "cell_type": "code",
   "execution_count": 26,
   "id": "a4ad68fb",
   "metadata": {},
   "outputs": [
    {
     "name": "stdout",
     "output_type": "stream",
     "text": [
      "Proteínas codificadas\n",
      " \n",
      "gene:  ['TFAP2B']\n",
      "gene sinónimo:  ['AP-2B; AP-2beta; AP2-B; PDA2']\n",
      "id da proteína:  ['NP_003212.2']\n",
      "produto/ significado biológico:  ['transcription factor AP-2-beta']\n",
      "nota:  ['activating enhancer binding protein 2 beta; AP2-beta']\n",
      "referências externas:  ['CCDS:CCDS4934.2', 'GeneID:7021', 'HGNC:HGNC:11743', 'MIM:601601']\n",
      "sequência de aminoácidos transcrita:  ['MHSPPRDQAAIMLWKLVENVKYEDIYEDRHDGVPSHSSRLSQLGSVSQGPYSSAPPLSHTPSSDFQPPYFPPPYQPLPYHQSQDPYSHVNDPYSLNPLHQPQQHPWGQRQRQEVGSEAGSLLPQPRAALPQLSGLDPRRDYHSVRRPDVLLHSAHHGLDAGMGDSLSLHGLGHPGMEDVQSVEDANNSGMNLLDQSVIKKVPVPPKSVTSLMMNKDGFLGGMSVNTGEVFCSVPGRLSLLSSTSKYKVTVGEVQRRLSPPECLNASLLGGVLRRAKSKNGGRSLRERLEKIGLNLPAGRRKAANVTLLTSLVEGEAVHLARDFGYICETEFPAKAVSEYLNRQHTDPSDLHSRKNMLLATKQLCKEFTDLLAQDRTPIGNSRPSPILEPGIQSCLTHFSLITHGFGAPAICAALTALQNYLTEALKGMDKMFLNNTTTNRHTSGEGPGSKTGDKEEKHRK']\n"
     ]
    }
   ],
   "source": [
    "featCDS=[]\n",
    "for i in range(tam_feature):\n",
    "    if record_TFAP2B.features[i].type==\"CDS\":\n",
    "        featCDS.append(i)\n",
    "print(\"Proteínas codificadas\")\n",
    "for k in featCDS:\n",
    "    print(\" \")\n",
    "    print(\"gene: \", record_TFAP2B.features[k].qualifiers['gene'])\n",
    "    print(\"gene sinónimo: \",record_TFAP2B.features[k].qualifiers['gene_synonym'])\n",
    "    print(\"id da proteína: \",record_TFAP2B.features[k].qualifiers['protein_id'])\n",
    "    print(\"produto/ significado biológico: \",record_TFAP2B.features[k].qualifiers['product'])\n",
    "    print(\"nota: \",record_TFAP2B.features[k].qualifiers['note'])\n",
    "    print(\"referências externas: \",record_TFAP2B.features[k].qualifiers['db_xref'])\n",
    "    print(\"sequência de aminoácidos transcrita: \",record_TFAP2B.features[k].qualifiers['translation'])"
   ]
  },
  {
   "cell_type": "code",
   "execution_count": null,
   "id": "0b4605ac",
   "metadata": {},
   "outputs": [],
   "source": []
  }
 ],
 "metadata": {
  "kernelspec": {
   "display_name": "Python 3 (ipykernel)",
   "language": "python",
   "name": "python3"
  },
  "language_info": {
   "codemirror_mode": {
    "name": "ipython",
    "version": 3
   },
   "file_extension": ".py",
   "mimetype": "text/x-python",
   "name": "python",
   "nbconvert_exporter": "python",
   "pygments_lexer": "ipython3",
   "version": "3.9.7"
  }
 },
 "nbformat": 4,
 "nbformat_minor": 5
}
