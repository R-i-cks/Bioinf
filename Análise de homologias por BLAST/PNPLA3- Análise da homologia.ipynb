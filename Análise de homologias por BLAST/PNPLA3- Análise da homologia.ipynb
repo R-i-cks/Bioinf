{
 "cells": [
  {
   "cell_type": "markdown",
   "id": "8b4327e4",
   "metadata": {},
   "source": [
    "# Análise de homologias por BLAST"
   ]
  },
  {
   "cell_type": "code",
   "execution_count": 1,
   "id": "97efc9dc",
   "metadata": {},
   "outputs": [],
   "source": [
    "from Bio.Blast import NCBIXML \n",
    "from Bio.Blast import NCBIWWW \n",
    "from Bio import SeqIO"
   ]
  },
  {
   "cell_type": "code",
   "execution_count": 2,
   "id": "31dbcda5",
   "metadata": {},
   "outputs": [
    {
     "name": "stdout",
     "output_type": "stream",
     "text": [
      "481\n"
     ]
    }
   ],
   "source": [
    "#PNPLA3 em fasta\n",
    "f_PNPLA3 = SeqIO.read(open(\"PNPLA3_prot.fasta\"), format=\"fasta\") \n",
    "print (len(f_PNPLA3.seq)) #usa-se a sequência da proteína"
   ]
  },
  {
   "cell_type": "markdown",
   "id": "8bd17820",
   "metadata": {},
   "source": [
    "#### Procura de genes homólogos"
   ]
  },
  {
   "cell_type": "code",
   "execution_count": 3,
   "id": "47691202",
   "metadata": {},
   "outputs": [],
   "source": [
    "result_handle = NCBIWWW.qblast(\"blastp\", \"swissprot\", f_PNPLA3.format(\"fasta\"))"
   ]
  },
  {
   "cell_type": "code",
   "execution_count": 4,
   "id": "45ab4b09",
   "metadata": {},
   "outputs": [],
   "source": [
    "file_save = open(\"my_blast_PNPLA3.xml\", \"w\")\n",
    "file_save.write(result_handle.read()) \n",
    "file_save.close() \n",
    "result_handle.close()"
   ]
  },
  {
   "cell_type": "code",
   "execution_count": 5,
   "id": "e627fd40",
   "metadata": {},
   "outputs": [],
   "source": [
    "result_handle = open(\"my_blast_PNPLA3.xml\")\n",
    "record =  NCBIXML.read(result_handle)"
   ]
  },
  {
   "cell_type": "code",
   "execution_count": 6,
   "id": "f4c284e6",
   "metadata": {},
   "outputs": [
    {
     "name": "stdout",
     "output_type": "stream",
     "text": [
      "Parâmetros\n",
      "Database:  swissprot\n",
      "Matrix:  BLOSUM62\n",
      "Gap penalties:  (11, 1)\n"
     ]
    }
   ],
   "source": [
    "print(\"Parâmetros\")\n",
    "print(\"Database: \" , record.database)\n",
    "print(\"Matrix: \", record.matrix)\n",
    "print(\"Gap penalties: \", record.gap_penalties)"
   ]
  },
  {
   "cell_type": "code",
   "execution_count": 11,
   "id": "97ea1fa3",
   "metadata": {},
   "outputs": [
    {
     "name": "stdout",
     "output_type": "stream",
     "text": [
      "Sequências homólogas:\n",
      "\n",
      "Acesso:  Q9NST1\n",
      "Hit id:  sp|Q9NST1.2| \n",
      "\n",
      "E-value:  0.0\n",
      "Comprimento:  481\n",
      "Identidade:  100.0 %\n",
      "Query cover:  100.0 %\n",
      "Positivies (propriedade quimica semelhante): 100.0 % \n",
      "\n",
      "Definição:  RecName: Full=1-acylglycerol-3-phosphate O-acyltransferase PNPLA3; AltName: Full=Acylglycerol transacylase; AltName: Full=Adiponutrin; Short=ADPN; AltName: Full=Calcium-independent phospholipase A2-epsilon; Short=iPLA2-epsilon; AltName: Full=Lysophosphatidic acid acyltransferase; AltName: Full=Patatin-like phospholipase domain-containing protein 3 [Homo sapiens] \n",
      "\n",
      "------Alinhamento----- Query start:  1 Sbjct start:  1\n",
      "MYDAERGWSLSFAGCGFLGFYHVGATRCLSEHAPHLLRDARMLFGASAGALHCVGVLSGIPLEQTLQVLSDLVRK\n",
      "MYDAERGWSLSFAGCGFLGFYHVGATRCLSEHAPHLLRDARMLFGASAGALHCVGVLSGIPLEQTLQVLSDLVRK\n",
      "MYDAERGWSLSFAGCGFLGFYHVGATRCLSEHAPHLLRDARMLFGASAGALHCVGVLSGIPLEQTLQVLSDLVRK\n",
      "\n",
      "ARSRNIGIFHPSFNLSKFLRQGLCKCLPANVHQLISGKIGISLTRVSDGENVLVSDFRSKDEVVDALVCSCFIPF\n",
      "ARSRNIGIFHPSFNLSKFLRQGLCKCLPANVHQLISGKIGISLTRVSDGENVLVSDFRSKDEVVDALVCSCFIPF\n",
      "ARSRNIGIFHPSFNLSKFLRQGLCKCLPANVHQLISGKIGISLTRVSDGENVLVSDFRSKDEVVDALVCSCFIPF\n",
      "\n",
      "FVPPDLKVLGEICLRGYLDAFRFLEEKGICNRPQPGLKSSSEGMDPEVAMPSWANMSLDSSPESAALAVRLEGDE\n",
      "FVPPDLKVLGEICLRGYLDAFRFLEEKGICNRPQPGLKSSSEGMDPEVAMPSWANMSLDSSPESAALAVRLEGDE\n",
      "FVPPDLKVLGEICLRGYLDAFRFLEEKGICNRPQPGLKSSSEGMDPEVAMPSWANMSLDSSPESAALAVRLEGDE\n",
      "\n",
      "LLDHLRLSILPWDESILDTLSPRLATALSEEMKDKGGYMSKICNLLPIRIMSYVMLPCTLPVESAIAIVQRLVTW\n",
      "LLDHLRLSILPWDESILDTLSPRLATALSEEMKDKGGYMSKICNLLPIRIMSYVMLPCTLPVESAIAIVQRLVTW\n",
      "LLDHLRLSILPWDESILDTLSPRLATALSEEMKDKGGYMSKICNLLPIRIMSYVMLPCTLPVESAIAIVQRLVTW\n",
      "\n",
      "LPDMPDDVLWLQWVTSQVFTRVLMCLLPASRSQMPVSSQQASPCTPEQDWPCWTPCSPKGCPAETKAEATPRSIL\n",
      "LPDMPDDVLWLQWVTSQVFTRVLMCLLPASRSQMPVSSQQASPCTPEQDWPCWTPCSPKGCPAETKAEATPRSIL\n",
      "LPDMPDDVLWLQWVTSQVFTRVLMCLLPASRSQMPVSSQQASPCTPEQDWPCWTPCSPKGCPAETKAEATPRSIL\n",
      "\n",
      "RSSLNFFLGNKVPAGAEGLSTFPSFSLEKSL\n",
      "RSSLNFFLGNKVPAGAEGLSTFPSFSLEKSL\n",
      "RSSLNFFLGNKVPAGAEGLSTFPSFSLEKSL\n",
      "\n",
      "\n",
      "\n",
      "Acesso:  Q91WW7\n",
      "Hit id:  sp|Q91WW7.1| \n",
      "\n",
      "E-value:  0.0\n",
      "Comprimento:  408\n",
      "Identidade:  67.64705882352942 %\n",
      "Query cover:  84.82328482328482 %\n",
      "Positivies (propriedade quimica semelhante): 79.41176470588235 % \n",
      "\n",
      "Definição:  RecName: Full=1-acylglycerol-3-phosphate O-acyltransferase Pnpla3; AltName: Full=Acylglycerol transacylase; AltName: Full=Adiponutrin; Short=ADPN; AltName: Full=Calcium-independent phospholipase A2-epsilon; Short=iPLA2-epsilon; AltName: Full=Lysophosphatidic acid acyltransferase; AltName: Full=Patatin-like phospholipase domain-containing protein 3 [Mus musculus] \n",
      "\n",
      "------Alinhamento----- Query start:  1 Sbjct start:  1\n",
      "MYDAERGWSLSFAGCGFLGFYHVGATRCLSEHAPHLLRDARMLFGASAGALHCVGVLSGIPLEQTLQVLSDLVRK\n",
      "MYD ER WSLSFAGCGFLGFYHVGAT CLSE APHLLRDAR  FG SAGALH V  +  +PL + +++L DLVRK\n",
      "MYDPERRWSLSFAGCGFLGFYHVGATLCLSERAPHLLRDARTFFGCSAGALHAVTFVCSLPLGRIMEILMDLVRK\n",
      "\n",
      "ARSRNIGIFHPSFNLSKFLRQGLCKCLPANVHQLISGKIGISLTRVSDGENVLVSDFRSKDEVVDALVCSCFIPF\n",
      "ARSRNIG  HP FN++K +R GL + LP NVHQ+ISGK+ ISLTRVSDGENVLVS+F SKDEVVDALVCSCFIP \n",
      "ARSRNIGTLHPFFNINKCIRDGLQESLPDNVHQVISGKVHISLTRVSDGENVLVSEFHSKDEVVDALVCSCFIPL\n",
      "\n",
      "FVPPDLKVLGEICLRGYLDAFRFLEEKGICNRPQPGLKSSSEGMDPEVAMPSWANMSLDSSPESAALAVRLEGDE\n",
      "  P D+KV+GE+C +GYLDAFRFLEE GICN PQ  L                 ++SL  +PE+     +L GD+\n",
      "LFPSDVKVMGELCYQGYLDAFRFLEENGICNGPQRSL-----------------SLSL-VAPEACLENGKLVGDK\n",
      "\n",
      "LLDHLRLSILPWDESILDTLSPRLATALSEEMKDKGGYMSKICNLLPIRIMSYVMLPCTLPVESAIAIVQRLVTW\n",
      "    + +S+   DE+I +TLSP L+TALSE +KD+ GY+SK+CNLLP+RI+SY+MLPC+LPVESAIA V RLVTW\n",
      "----VPVSLCFTDENIWETLSPELSTALSEAIKDREGYLSKVCNLLPVRILSYIMLPCSLPVESAIAAVHRLVTW\n",
      "\n",
      "LPDMPDDVLWLQWVTSQVFTRVLMCLLPASRSQ\n",
      "LPD+ DD+ WLQW TSQV  R+ MCLLP++RS+\n",
      "LPDIQDDIQWLQWATSQVCARMTMCLLPSTRSR\n",
      "\n",
      "\n",
      "\n",
      "\n",
      "\n",
      "\n",
      "\n"
     ]
    }
   ],
   "source": [
    "e_value_threshold=0.0000000001\n",
    "c=len(f_PNPLA3.seq)\n",
    "\n",
    "print(\"Sequências homólogas:\")\n",
    "print(\"\")\n",
    "for alignment in record.alignments:\n",
    "    for hsp in alignment.hsps:\n",
    "        n=hsp.align_length\n",
    "        i=(hsp.identities/n)\n",
    "        q=(n/c)\n",
    "        p=(hsp.positives/n)\n",
    "        if hsp.expect < e_value_threshold and q>=0.8 and i>=0.5:\n",
    "            print(\"Acesso: \" , alignment.accession)\n",
    "            print(\"Hit id: \" , alignment.hit_id, \"\\n\")\n",
    "            print(\"E-value: \",hsp.expect)\n",
    "            print(\"Comprimento: \",hsp.align_length)\n",
    "            print( \"Identidade: \", (i*100) ,\"%\")       \n",
    "            print( \"Query cover: \", (q*100) ,\"%\")\n",
    "            print(\"Positivies (propriedade quimica semelhante):\", (p*100), \"%\", \"\\n\" )\n",
    "            print(\"Definição: \" , alignment.hit_def, \"\\n\")\n",
    "            print(\"------Alinhamento-----\", \"Query start: \",hsp.query_start, \"Sbjct start: \",hsp.sbjct_start)\n",
    "            print(hsp.query[0:75])\n",
    "            print(hsp.match[0:75])\n",
    "            print(hsp.sbjct[0:75])\n",
    "            print(\"\")\n",
    "            print(hsp.query[75:150])\n",
    "            print(hsp.match[75:150])\n",
    "            print(hsp.sbjct[75:150])\n",
    "            print(\"\")\n",
    "            print(hsp.query[225:300])\n",
    "            print(hsp.match[225:300])\n",
    "            print(hsp.sbjct[225:300])\n",
    "            print(\"\")\n",
    "            print(hsp.query[300:375])\n",
    "            print(hsp.match[300:375])\n",
    "            print(hsp.sbjct[300:375])\n",
    "            print(\"\")\n",
    "            print(hsp.query[375:450])\n",
    "            print(hsp.match[375:450])\n",
    "            print(hsp.sbjct[375:450])\n",
    "            print(\"\")\n",
    "            print(hsp.query[450:481])\n",
    "            print(hsp.match[450:481])\n",
    "            print(hsp.sbjct[450:481])\n",
    "            print(\"\")\n",
    "            print(\"\")\n",
    "            print(\"\")"
   ]
  },
  {
   "cell_type": "code",
   "execution_count": null,
   "id": "37e44113",
   "metadata": {},
   "outputs": [],
   "source": []
  }
 ],
 "metadata": {
  "kernelspec": {
   "display_name": "Python 3 (ipykernel)",
   "language": "python",
   "name": "python3"
  },
  "language_info": {
   "codemirror_mode": {
    "name": "ipython",
    "version": 3
   },
   "file_extension": ".py",
   "mimetype": "text/x-python",
   "name": "python",
   "nbconvert_exporter": "python",
   "pygments_lexer": "ipython3",
   "version": "3.9.7"
  }
 },
 "nbformat": 4,
 "nbformat_minor": 5
}
